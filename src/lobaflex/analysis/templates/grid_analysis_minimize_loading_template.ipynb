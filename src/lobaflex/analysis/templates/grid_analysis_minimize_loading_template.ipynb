{
 "cells": [
  {
   "cell_type": "raw",
   "metadata": {},
   "source": [
    "%load_ext autoreload\n",
    "%autoreload 2"
   ]
  },
  {
   "cell_type": "markdown",
   "metadata": {},
   "source": [
    "## Table of Contents\n",
    "\n",
    "* [0 Grid information](#0_Grid_information)"
   ]
  },
  {
   "cell_type": "code",
   "execution_count": null,
   "metadata": {},
   "outputs": [],
   "source": [
    "######## LOBAFLEX ###########\n",
    "# from lobaflex.analysis import analysis\n",
    "# from lobaflex.tools.draw import *\n",
    "from lobaflex.opt.feeder_extraction import get_flexible_loads\n",
    "from lobaflex.tools.tools import get_config, get_files_in_subdirs\n",
    "from lobaflex.opt.dispatch_integration import integrate_dispatch\n",
    "from edisgo.edisgo import import_edisgo_from_files\n",
    "\n",
    "######## DIRS ##########\n",
    "from lobaflex import config_dir, data_dir, results_dir\n",
    "######## DATA ###########\n",
    "import re\n",
    "import pandas as pd\n",
    "\n",
    "######## PLOTTING ###########\n",
    "import matplotlib\n",
    "matplotlib.use('TkAgg')\n",
    "%matplotlib inline\n",
    "import matplotlib.pyplot as plt\n",
    "from mpl_toolkits.axes_grid1 import make_axes_locatable\n",
    "from matplotlib.ticker import ScalarFormatter\n",
    "import seaborn as sns\n",
    "\n",
    "# # set seaborn style\n",
    "# sns.set()\n",
    "# plotly\n",
    "import plotly.express as px\n",
    "import plotly.graph_objs as go\n",
    "from plotly.subplots import make_subplots\n",
    "import plotly.io as pio\n",
    "\n",
    "# comment to make plots interactive\n",
    "pio.renderers.default = \"svg\"\n",
    "\n"
   ]
  },
  {
   "cell_type": "code",
   "execution_count": null,
   "metadata": {},
   "outputs": [],
   "source": [
    "cfg_o = get_config(path=config_dir / \".opt.yaml\")"
   ]
  },
  {
   "cell_type": "raw",
   "metadata": {},
   "source": [
    "# grids\n",
    "# run_id = cfg_o[\"run_id\"]\n",
    "run_id = \"emob_hp_no_end_lines_n_lines_less_1m\"\n",
    "grid_id = cfg_o[\"mvgds\"][0]\n",
    "grid_id = 1056\n",
    "parameters = [\"charging_hp_el\", \"charging_ev\"]\n",
    "\n",
    "# timeframe\n",
    "# start_datetime = \"2011-04-01 00:00:00\"\n",
    "start_datetime = \"2011-01-01 00:00:00\"\n",
    "# periods=336\n",
    "periods=168\n",
    "\n",
    "\n",
    "# directories\n",
    "import_dir = \"load_n_gen_n_emob_n_hp_grids\""
   ]
  },
  {
   "cell_type": "markdown",
   "metadata": {
    "tags": [
     "parameters"
    ]
   },
   "source": [
    "## 0 Grid information<a class=\"anchor\" id=\"0_Grid_information\"></a>"
   ]
  },
  {
   "cell_type": "markdown",
   "metadata": {},
   "source": [
    "# Definitions"
   ]
  },
  {
   "cell_type": "code",
   "execution_count": null,
   "metadata": {},
   "outputs": [],
   "source": [
    "# grid_path = data_dir / import_dir/ str(grid_id)\n",
    "grid_path = results_dir / run_id / str(grid_id) / \"minimize_loading\" / \"reinforced\"\n",
    "\n",
    "results_path = results_dir / run_id / str(grid_id) / \"minimize_loading\" / \"concat\"\n",
    "\n",
    "list_of_results = get_files_in_subdirs(path=results_path, pattern=\"*.csv\")"
   ]
  },
  {
   "cell_type": "markdown",
   "metadata": {},
   "source": [
    "# Import edisgo"
   ]
  },
  {
   "cell_type": "code",
   "execution_count": null,
   "metadata": {},
   "outputs": [],
   "source": [
    "edisgo_obj = import_edisgo_from_files(\n",
    "    edisgo_path=grid_path,\n",
    "    import_topology=True,\n",
    "    import_timeseries=True,\n",
    "    import_electromobility=True,\n",
    "    import_heat_pump=True,\n",
    ")"
   ]
  },
  {
   "cell_type": "code",
   "execution_count": null,
   "metadata": {},
   "outputs": [],
   "source": [
    "if start_datetime and periods is not None:\n",
    "    timeframe = pd.date_range(start=start_datetime, periods=periods, freq=\"1h\")\n",
    "else:\n",
    "    timeframe = edisgo_obj.timeseries.timeindex"
   ]
  },
  {
   "cell_type": "raw",
   "metadata": {},
   "source": [
    "edisgo_obj = integrate_opt_results(\n",
    "    edisgo_obj, parameters=parameters, run_id=run_id, grid_id=grid_id)"
   ]
  },
  {
   "cell_type": "markdown",
   "metadata": {},
   "source": [
    "# Generator and load ids"
   ]
  },
  {
   "cell_type": "code",
   "execution_count": null,
   "metadata": {},
   "outputs": [],
   "source": [
    "flexible_loads = edisgo_obj.topology.loads_df.loc[edisgo_obj.topology.loads_df[\"opt\"] == True].index\n",
    "inflexible_loads = edisgo_obj.topology.loads_df.loc[~edisgo_obj.topology.loads_df.index.isin(flexible_loads)].index"
   ]
  },
  {
   "cell_type": "code",
   "execution_count": null,
   "metadata": {},
   "outputs": [],
   "source": [
    "res_generators = edisgo_obj.topology.generators_df[edisgo_obj.topology.generators_df[\"type\"].isin(\n",
    "    [\"solar\", \"wind\"])].index"
   ]
  },
  {
   "cell_type": "code",
   "execution_count": null,
   "metadata": {},
   "outputs": [],
   "source": [
    "flexible_hp = [i for i in flexible_loads if \"HP\" in i]\n",
    "flexible_cp = [i for i in flexible_loads if \"Charging_Point\" in i]"
   ]
  },
  {
   "cell_type": "markdown",
   "metadata": {},
   "source": [
    "# Plots"
   ]
  },
  {
   "cell_type": "markdown",
   "metadata": {},
   "source": [
    "## curtailment"
   ]
  },
  {
   "cell_type": "code",
   "execution_count": null,
   "metadata": {},
   "outputs": [],
   "source": [
    "curtailment_files = [i for i in list_of_results if \"curtailment\" in i]"
   ]
  },
  {
   "cell_type": "code",
   "execution_count": null,
   "metadata": {
    "scrolled": false
   },
   "outputs": [],
   "source": [
    "n = len(curtailment_files)\n",
    "fig, axs = plt.subplots(nrows=n, figsize=(15,n*5), sharex=True)\n",
    "for i, file in enumerate(curtailment_files):\n",
    "    attr = re.findall(r'curtailment_(.*).csv', file)[0]\n",
    "    df = pd.read_csv(file, index_col=0, parse_dates=True)\n",
    "    df = df.sum(axis=1).loc[timeframe].rename(f\"Curtailment {attr}\")\n",
    "    sns.lineplot(x=timeframe, y=df, ax=axs[i])\n",
    "# fig.show()"
   ]
  },
  {
   "cell_type": "code",
   "execution_count": null,
   "metadata": {},
   "outputs": [],
   "source": []
  },
  {
   "cell_type": "markdown",
   "metadata": {},
   "source": [
    "## slacks"
   ]
  },
  {
   "cell_type": "markdown",
   "metadata": {},
   "source": [
    "## Charging + feedin"
   ]
  },
  {
   "cell_type": "code",
   "execution_count": null,
   "metadata": {},
   "outputs": [],
   "source": [
    "fig = go.Figure()\n",
    "\n",
    "fig.add_trace(go.Scatter(\n",
    "    mode= \"lines\",\n",
    "    name = 'Heat pumps',\n",
    "    x = timeframe,\n",
    "    y = edisgo_obj.timeseries.loads_active_power.loc[timeframe, flexible_hp].sum(axis=1),\n",
    "#     stackgroup='one'\n",
    "    yaxis='y1',\n",
    "))\n",
    "\n",
    "fig.add_trace(go.Scatter(\n",
    "    mode= \"lines\",\n",
    "    name = 'Charging points',\n",
    "    x = timeframe,\n",
    "    y = edisgo_obj.timeseries.loads_active_power.loc[timeframe, flexible_cp].sum(axis=1),\n",
    "#     stackgroup='one',\n",
    "    yaxis='y1'\n",
    "))\n",
    "\n",
    "fig.add_trace(go.Scatter(\n",
    "    mode= \"lines\",\n",
    "    name = 'Feedin-fix_load',\n",
    "    x = timeframe,\n",
    "    y = edisgo_obj.timeseries.generators_active_power.loc[timeframe, res_generators].sum(axis=1) - \\\n",
    "    edisgo_obj.timeseries.loads_active_power.loc[timeframe, inflexible_loads].sum(axis=1),\n",
    "#     stackgroup='two',\n",
    "    yaxis='y2',\n",
    "))\n",
    "\n",
    "\n",
    "fig.update_layout(\n",
    "    title=f\"Charging: {run_id} - {grid_id}\",\n",
    "    width=1000,\n",
    "    height=600,\n",
    "    yaxis_title=\"MW\",\n",
    "    xaxis_title=\"timesteps\",\n",
    "    showlegend=True,\n",
    "    yaxis=dict(title='Power in MW'),\n",
    "    yaxis2=dict(title='Power in MW',\n",
    "                overlaying='y',side='right')\n",
    ")\n",
    "\n",
    "fig.show()\n",
    "\n"
   ]
  },
  {
   "cell_type": "markdown",
   "metadata": {},
   "source": [
    "# Plot dumb + opt charging"
   ]
  },
  {
   "cell_type": "markdown",
   "metadata": {},
   "source": [
    "# Plot energy level + charging"
   ]
  },
  {
   "cell_type": "code",
   "execution_count": null,
   "metadata": {},
   "outputs": [],
   "source": []
  },
  {
   "cell_type": "code",
   "execution_count": null,
   "metadata": {},
   "outputs": [],
   "source": []
  },
  {
   "cell_type": "code",
   "execution_count": null,
   "metadata": {},
   "outputs": [],
   "source": []
  },
  {
   "cell_type": "code",
   "execution_count": null,
   "metadata": {},
   "outputs": [],
   "source": []
  },
  {
   "cell_type": "code",
   "execution_count": null,
   "metadata": {},
   "outputs": [],
   "source": []
  }
 ],
 "metadata": {
  "celltoolbar": "Tags",
  "kernelspec": {
   "display_name": "d_py3.8_edisgo-lobaflex",
   "language": "python",
   "name": "d_py3.8_edisgo-lobaflex"
  },
  "language_info": {
   "codemirror_mode": {
    "name": "ipython",
    "version": 3
   },
   "file_extension": ".py",
   "mimetype": "text/x-python",
   "name": "python",
   "nbconvert_exporter": "python",
   "pygments_lexer": "ipython3",
   "version": "3.8.10"
  },
  "toc": {
   "base_numbering": 1,
   "nav_menu": {},
   "number_sections": true,
   "sideBar": true,
   "skip_h1_title": false,
   "title_cell": "Table of Contents",
   "title_sidebar": "Contents",
   "toc_cell": false,
   "toc_position": {},
   "toc_section_display": true,
   "toc_window_display": true
  }
 },
 "nbformat": 4,
 "nbformat_minor": 4
}
