{
 "cells": [
  {
   "cell_type": "markdown",
   "metadata": {
    "toc": true
   },
   "source": [
    "<h1>Table of Contents<span class=\"tocSkip\"></span></h1>\n",
    "<div class=\"toc\"><ul class=\"toc-item\"><li><span><a href=\"#Imports\" data-toc-modified-id=\"Imports-1\"><span class=\"toc-item-num\">1&nbsp;&nbsp;</span>Imports</a></span></li><li><span><a href=\"#Grid-information\" data-toc-modified-id=\"Grid-information-2\"><span class=\"toc-item-num\">2&nbsp;&nbsp;</span>Grid information<a class=\"anchor\" id=\"0_Grid_information\" rel=\"nofollow\"></a></a></span></li><li><span><a href=\"#Definitions\" data-toc-modified-id=\"Definitions-3\"><span class=\"toc-item-num\">3&nbsp;&nbsp;</span>Definitions</a></span></li><li><span><a href=\"#Import-grid\" data-toc-modified-id=\"Import-grid-4\"><span class=\"toc-item-num\">4&nbsp;&nbsp;</span>Import grid</a></span></li><li><span><a href=\"#Plots\" data-toc-modified-id=\"Plots-5\"><span class=\"toc-item-num\">5&nbsp;&nbsp;</span>Plots</a></span><ul class=\"toc-item\"><li><span><a href=\"#curtailment\" data-toc-modified-id=\"curtailment-5.1\"><span class=\"toc-item-num\">5.1&nbsp;&nbsp;</span>curtailment</a></span></li><li><span><a href=\"#Slacks\" data-toc-modified-id=\"Slacks-5.2\"><span class=\"toc-item-num\">5.2&nbsp;&nbsp;</span>Slacks</a></span></li><li><span><a href=\"#Energy\" data-toc-modified-id=\"Energy-5.3\"><span class=\"toc-item-num\">5.3&nbsp;&nbsp;</span>Energy</a></span></li><li><span><a href=\"#Charging\" data-toc-modified-id=\"Charging-5.4\"><span class=\"toc-item-num\">5.4&nbsp;&nbsp;</span>Charging</a></span></li><li><span><a href=\"#Charging-+-feedin\" data-toc-modified-id=\"Charging-+-feedin-5.5\"><span class=\"toc-item-num\">5.5&nbsp;&nbsp;</span>Charging + feedin</a></span></li></ul></li><li><span><a href=\"#Plot-dumb-+-opt-charging\" data-toc-modified-id=\"Plot-dumb-+-opt-charging-6\"><span class=\"toc-item-num\">6&nbsp;&nbsp;</span>Plot dumb + opt charging</a></span></li><li><span><a href=\"#Plot-energy-level-+-charging\" data-toc-modified-id=\"Plot-energy-level-+-charging-7\"><span class=\"toc-item-num\">7&nbsp;&nbsp;</span>Plot energy level + charging</a></span></li></ul></div>"
   ]
  },
  {
   "cell_type": "raw",
   "metadata": {},
   "source": [
    "%load_ext autoreload\n",
    "%autoreload 2"
   ]
  },
  {
   "cell_type": "markdown",
   "metadata": {},
   "source": [
    "# Imports"
   ]
  },
  {
   "cell_type": "code",
   "execution_count": null,
   "metadata": {
    "scrolled": true
   },
   "outputs": [],
   "source": [
    "######## LOBAFLEX ###########\n",
    "# from lobaflex.analysis import analysis\n",
    "# from lobaflex.tools.draw import *\n",
    "from lobaflex.opt.feeder_extraction import get_flexible_loads\n",
    "from lobaflex.tools.tools import get_config, get_files_in_subdirs\n",
    "from lobaflex.opt.dispatch_integration import integrate_dispatch\n",
    "from edisgo.edisgo import import_edisgo_from_files\n",
    "\n",
    "######## DIRS ##########\n",
    "from lobaflex import config_dir, data_dir, results_dir\n",
    "######## DATA ###########\n",
    "import re\n",
    "import numpy as np\n",
    "import pandas as pd\n",
    "from pathlib import Path\n",
    "######## PLOTTING ###########\n",
    "import matplotlib\n",
    "# matplotlib.use('TkAgg')\n",
    "# %matplotlib inline\n",
    "import matplotlib.pyplot as plt\n",
    "from mpl_toolkits.axes_grid1 import make_axes_locatable\n",
    "from matplotlib.ticker import ScalarFormatter\n",
    "import seaborn as sns\n",
    "\n",
    "# # set seaborn style\n",
    "# sns.set()\n",
    "# plotly\n",
    "import plotly.express as px\n",
    "import plotly.graph_objs as go\n",
    "from plotly.subplots import make_subplots\n",
    "import plotly.io as pio\n",
    "\n",
    "\n",
    "from lobaflex.tools.plots import (get_all_attribute_values_for_keyword,\n",
    "                                  plot_all_attributes_for_keyword,\n",
    "                                  heatmap_energy_level,\n",
    "                                 )\n",
    "# comment to make plots interactive\n",
    "# pio.renderers.default = \"svg\"\n",
    "\n"
   ]
  },
  {
   "cell_type": "code",
   "execution_count": null,
   "metadata": {
    "tags": [
     "delete_me"
    ]
   },
   "outputs": [],
   "source": [
    "pio.renderers.default = \"svg\""
   ]
  },
  {
   "cell_type": "code",
   "execution_count": null,
   "metadata": {
    "scrolled": true
   },
   "outputs": [],
   "source": [
    "cfg_o = get_config(path=config_dir / \".opt.yaml\")\n",
    "# cfg_g = get_config(path=config_dir / \".grids.yaml\")"
   ]
  },
  {
   "cell_type": "markdown",
   "metadata": {
    "tags": [
     "parameters"
    ]
   },
   "source": [
    "# Grid information<a class=\"anchor\" id=\"0_Grid_information\"></a>"
   ]
  },
  {
   "cell_type": "markdown",
   "metadata": {},
   "source": [
    "# Definitions"
   ]
  },
  {
   "cell_type": "code",
   "execution_count": null,
   "metadata": {
    "scrolled": true
   },
   "outputs": [],
   "source": [
    "grid_path = Path(import_dir) / \"mvgd\"\n",
    "base_objective =  grid_path.parent.name\n",
    "results_path = results_dir / run_id / str(grid_id) / \"potential\" / base_objective\n",
    "list_of_results = get_files_in_subdirs(path=results_path, pattern=\"*.csv\")\n",
    "\n",
    "df_observation_periods = pd.read_csv(results_dir / \"observation_periods.csv\",\n",
    "                                     header=[0,1], index_col=0).loc[:,str(grid_id)]"
   ]
  },
  {
   "cell_type": "markdown",
   "metadata": {},
   "source": [
    "# Import grid"
   ]
  },
  {
   "cell_type": "code",
   "execution_count": null,
   "metadata": {
    "scrolled": true
   },
   "outputs": [],
   "source": [
    "edisgo_obj = import_edisgo_from_files(\n",
    "    grid_path,\n",
    "    import_topology=True,\n",
    "    import_timeseries=True,\n",
    "    import_heat_pump=True,\n",
    "    import_electromobility=True,\n",
    ")"
   ]
  },
  {
   "cell_type": "markdown",
   "metadata": {},
   "source": [
    "# Plots\n",
    "## curtailment"
   ]
  },
  {
   "cell_type": "code",
   "execution_count": null,
   "metadata": {
    "scrolled": false
   },
   "outputs": [],
   "source": [
    "plot_all_attributes_for_keyword(results_path=results_path,\n",
    "                                keyword=\"curtailment\",\n",
    "                                timeframe=df_observation_periods[period])"
   ]
  },
  {
   "cell_type": "markdown",
   "metadata": {},
   "source": [
    "## Slacks"
   ]
  },
  {
   "cell_type": "code",
   "execution_count": null,
   "metadata": {
    "scrolled": false
   },
   "outputs": [],
   "source": [
    "plot_all_attributes_for_keyword(results_path=results_path,\n",
    "                                keyword=\"slack\",\n",
    "                               timeframe=df_observation_periods[period])"
   ]
  },
  {
   "cell_type": "markdown",
   "metadata": {},
   "source": [
    "## Energy"
   ]
  },
  {
   "cell_type": "code",
   "execution_count": null,
   "metadata": {
    "scrolled": false
   },
   "outputs": [],
   "source": [
    "plot_all_attributes_for_keyword(results_path=results_path,\n",
    "                                keyword=f\"{grid_id}_energy_level\",\n",
    "                                edisgo_obj=edisgo_obj,\n",
    "                               timeframe=df_observation_periods[period])"
   ]
  },
  {
   "cell_type": "raw",
   "metadata": {
    "scrolled": false
   },
   "source": [
    "heatmap_energy_level(keyword=f\"{grid_id}_energy_level\", edisgo_obj=edisgo_obj)"
   ]
  },
  {
   "cell_type": "raw",
   "metadata": {
    "scrolled": false
   },
   "source": [
    "keyword = f\"{grid_id}_energy_level\"\n",
    "files = [i for i in selected_list if keyword in i]\n",
    "n = len(files)\n",
    "fig, axs = plt.subplots(nrows=n, figsize=(15,n*5))#, sharex=True)\n",
    "for i, file in enumerate(files):\n",
    "#     attr = re.findall(fr'{keyword}_(.*).csv', file)[0]\n",
    "    attr = re.findall(fr'/concat/{grid_id}_(.*).csv', file)[0]\n",
    "    df = pd.read_csv(file, index_col=0, parse_dates=True)\n",
    "#     df = df.sum(axis=1).loc[timeframe].rename(f\"{keyword} {attr} [MWh]\")\n",
    "    df = df.sum(axis=1).rename(f\"{keyword} {attr} [MWh]\")\n",
    "    sns.lineplot(x=df.index, y=df, ax=axs[i])\n",
    "# fig.show()"
   ]
  },
  {
   "cell_type": "markdown",
   "metadata": {},
   "source": [
    "heatmap"
   ]
  },
  {
   "cell_type": "markdown",
   "metadata": {},
   "source": [
    "- tes upper energy level constraint needs to be removed"
   ]
  },
  {
   "cell_type": "markdown",
   "metadata": {},
   "source": [
    "## Charging"
   ]
  },
  {
   "cell_type": "markdown",
   "metadata": {},
   "source": [
    "- diff zu pset hp\n",
    "- diff zu upper power ev"
   ]
  },
  {
   "cell_type": "markdown",
   "metadata": {},
   "source": [
    "charging ev: hüllkurve upper lower opacitiy und dann opt ergebnis dazwischen\n",
    "hp: same\n",
    "\n",
    "annotation for max min grid power: no tes energy constraints"
   ]
  },
  {
   "cell_type": "markdown",
   "metadata": {},
   "source": [
    "min max energy level - what happens at peaks? feedin und demand plots?"
   ]
  },
  {
   "cell_type": "code",
   "execution_count": null,
   "metadata": {},
   "outputs": [],
   "source": []
  },
  {
   "cell_type": "code",
   "execution_count": null,
   "metadata": {
    "scrolled": true
   },
   "outputs": [],
   "source": [
    "plot_all_attributes_for_keyword(results_path=results_path,\n",
    "                                keyword=\"charging\", edisgo_obj=edisgo_obj,\n",
    "                               timeframe=df_observation_periods[period])"
   ]
  },
  {
   "cell_type": "raw",
   "metadata": {
    "scrolled": false
   },
   "source": [
    "keyword = f\"{grid_id}_charging\"\n",
    "files = [i for i in selected_list if keyword in i]\n",
    "n = len(files)\n",
    "fig, axs = plt.subplots(nrows=n, figsize=(15,n*5), sharex=True)\n",
    "for i, file in enumerate(files):\n",
    "    attr = re.findall(fr'{keyword}_(.*).csv', file)[0]\n",
    "    df = pd.read_csv(file, index_col=0, parse_dates=True)\n",
    "#     df = df.sum(axis=1).loc[timeframe].rename(f\"{keyword} {attr} [MW]\")\n",
    "    df = df.sum(axis=1).rename(f\"{keyword} {attr} [MW]\")\n",
    "    sns.lineplot(x=df.index, y=df, ax=axs[i])\n",
    "# fig.show()"
   ]
  },
  {
   "cell_type": "markdown",
   "metadata": {},
   "source": [
    "- high initial charging bei step 1\n",
    "    - hp\n",
    "    - tes\n",
    "- Speicher werden direkt voll gemacht"
   ]
  },
  {
   "cell_type": "markdown",
   "metadata": {},
   "source": [
    "- konstantes laden der TES wegen verlusten\n",
    "- warum Einbruch am Ende?"
   ]
  },
  {
   "cell_type": "markdown",
   "metadata": {},
   "source": [
    "## Charging + feedin"
   ]
  },
  {
   "cell_type": "code",
   "execution_count": null,
   "metadata": {},
   "outputs": [],
   "source": [
    "plot_optimized_dispatch(edisgo_obj, timeframe=df_observation_periods[period])"
   ]
  },
  {
   "cell_type": "markdown",
   "metadata": {},
   "source": [
    "# Plot dumb + opt charging"
   ]
  },
  {
   "cell_type": "markdown",
   "metadata": {},
   "source": [
    "# Plot energy level + charging"
   ]
  },
  {
   "cell_type": "code",
   "execution_count": null,
   "metadata": {
    "scrolled": true
   },
   "outputs": [],
   "source": []
  },
  {
   "cell_type": "code",
   "execution_count": null,
   "metadata": {
    "scrolled": true
   },
   "outputs": [],
   "source": []
  },
  {
   "cell_type": "code",
   "execution_count": null,
   "metadata": {
    "scrolled": true
   },
   "outputs": [],
   "source": []
  },
  {
   "cell_type": "code",
   "execution_count": null,
   "metadata": {
    "scrolled": true
   },
   "outputs": [],
   "source": []
  },
  {
   "cell_type": "code",
   "execution_count": null,
   "metadata": {
    "scrolled": true
   },
   "outputs": [],
   "source": []
  }
 ],
 "metadata": {
  "celltoolbar": "Tags",
  "kernelspec": {
   "display_name": "d_py3.8_edisgo-lobaflex",
   "language": "python",
   "name": "d_py3.8_edisgo-lobaflex"
  },
  "language_info": {
   "codemirror_mode": {
    "name": "ipython",
    "version": 3
   },
   "file_extension": ".py",
   "mimetype": "text/x-python",
   "name": "python",
   "nbconvert_exporter": "python",
   "pygments_lexer": "ipython3",
   "version": "3.8.10"
  },
  "toc": {
   "base_numbering": 1,
   "nav_menu": {},
   "number_sections": true,
   "sideBar": true,
   "skip_h1_title": false,
   "title_cell": "Table of Contents",
   "title_sidebar": "Contents",
   "toc_cell": true,
   "toc_position": {
    "height": "calc(100% - 180px)",
    "left": "10px",
    "top": "150px",
    "width": "429.5px"
   },
   "toc_section_display": true,
   "toc_window_display": true
  }
 },
 "nbformat": 4,
 "nbformat_minor": 4
}
