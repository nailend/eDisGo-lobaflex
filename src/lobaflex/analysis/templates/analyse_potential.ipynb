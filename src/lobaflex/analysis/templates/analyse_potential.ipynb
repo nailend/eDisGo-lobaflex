{
 "cells": [
  {
   "cell_type": "markdown",
   "metadata": {
    "toc": true
   },
   "source": [
    "<h1>Table of Contents<span class=\"tocSkip\"></span></h1>\n",
    "<div class=\"toc\"><ul class=\"toc-item\"><li><span><a href=\"#Imports\" data-toc-modified-id=\"Imports-1\"><span class=\"toc-item-num\">1&nbsp;&nbsp;</span>Imports</a></span></li><li><span><a href=\"#Grid-information\" data-toc-modified-id=\"Grid-information-2\"><span class=\"toc-item-num\">2&nbsp;&nbsp;</span>Grid information<a class=\"anchor\" id=\"0_Grid_information\" rel=\"nofollow\"></a></a></span></li><li><span><a href=\"#Definitions\" data-toc-modified-id=\"Definitions-3\"><span class=\"toc-item-num\">3&nbsp;&nbsp;</span>Definitions</a></span></li><li><span><a href=\"#Import-grid\" data-toc-modified-id=\"Import-grid-4\"><span class=\"toc-item-num\">4&nbsp;&nbsp;</span>Import grid</a></span></li><li><span><a href=\"#Plots\" data-toc-modified-id=\"Plots-5\"><span class=\"toc-item-num\">5&nbsp;&nbsp;</span>Plots</a></span></li><li><span><a href=\"#Capacities\" data-toc-modified-id=\"Capacities-6\"><span class=\"toc-item-num\">6&nbsp;&nbsp;</span>Capacities</a></span><ul class=\"toc-item\"><li><span><a href=\"#Charging-+-feedin\" data-toc-modified-id=\"Charging-+-feedin-6.1\"><span class=\"toc-item-num\">6.1&nbsp;&nbsp;</span>Charging + feedin</a></span></li><li><span><a href=\"#curtailment\" data-toc-modified-id=\"curtailment-6.2\"><span class=\"toc-item-num\">6.2&nbsp;&nbsp;</span>curtailment</a></span></li><li><span><a href=\"#Slacks\" data-toc-modified-id=\"Slacks-6.3\"><span class=\"toc-item-num\">6.3&nbsp;&nbsp;</span>Slacks</a></span></li><li><span><a href=\"#Energy\" data-toc-modified-id=\"Energy-6.4\"><span class=\"toc-item-num\">6.4&nbsp;&nbsp;</span>Energy</a></span></li><li><span><a href=\"#Charging\" data-toc-modified-id=\"Charging-6.5\"><span class=\"toc-item-num\">6.5&nbsp;&nbsp;</span>Charging</a></span></li></ul></li><li><span><a href=\"#scenario-comparison\" data-toc-modified-id=\"scenario-comparison-7\"><span class=\"toc-item-num\">7&nbsp;&nbsp;</span>scenario comparison</a></span><ul class=\"toc-item\"><li><span><a href=\"#Reinforcement-costs\" data-toc-modified-id=\"Reinforcement-costs-7.1\"><span class=\"toc-item-num\">7.1&nbsp;&nbsp;</span>Reinforcement costs</a></span></li><li><span><a href=\"#Flexbands\" data-toc-modified-id=\"Flexbands-7.2\"><span class=\"toc-item-num\">7.2&nbsp;&nbsp;</span>Flexbands</a></span><ul class=\"toc-item\"><li><span><a href=\"#Heat-pump\" data-toc-modified-id=\"Heat-pump-7.2.1\"><span class=\"toc-item-num\">7.2.1&nbsp;&nbsp;</span>Heat pump</a></span></li><li><span><a href=\"#EV\" data-toc-modified-id=\"EV-7.2.2\"><span class=\"toc-item-num\">7.2.2&nbsp;&nbsp;</span>EV</a></span></li></ul></li><li><span><a href=\"#Plot-reference-+-opt-charging\" data-toc-modified-id=\"Plot-reference-+-opt-charging-7.3\"><span class=\"toc-item-num\">7.3&nbsp;&nbsp;</span>Plot reference + opt charging</a></span></li><li><span><a href=\"#Plot-energy-level-+-charging\" data-toc-modified-id=\"Plot-energy-level-+-charging-7.4\"><span class=\"toc-item-num\">7.4&nbsp;&nbsp;</span>Plot energy level + charging</a></span></li></ul></li></ul></div>"
   ]
  },
  {
   "cell_type": "raw",
   "metadata": {},
   "source": [
    "%load_ext autoreload\n",
    "%autoreload 2"
   ]
  },
  {
   "cell_type": "markdown",
   "metadata": {},
   "source": [
    "# Imports"
   ]
  },
  {
   "cell_type": "code",
   "execution_count": null,
   "metadata": {},
   "outputs": [],
   "source": [
    "######## LOBAFLEX ###########\n",
    "# from lobaflex.analysis import analysis\n",
    "# from lobaflex.tools.draw import *\n",
    "# from lobaflex.opt.feeder_extraction import get_flexible_loads\n",
    "from lobaflex.tools.tools import get_config#, get_files_in_subdirs\n",
    "# from lobaflex.opt.dispatch_integration import integrate_dispatch\n",
    "from edisgo.edisgo import import_edisgo_from_files\n",
    "\n",
    "######## DIRS ##########\n",
    "from lobaflex import config_dir, data_dir, results_dir\n",
    "######## DATA ###########\n",
    "import re\n",
    "import numpy as np\n",
    "import pandas as pd\n",
    "from pathlib import Path\n",
    "######## PLOTTING ###########\n",
    "# import matplotlib\n",
    "# # matplotlib.use('TkAgg')\n",
    "# # %matplotlib inline\n",
    "# import matplotlib.pyplot as plt\n",
    "# from mpl_toolkits.axes_grid1 import make_axes_locatable\n",
    "# from matplotlib.ticker import ScalarFormatter\n",
    "# import seaborn as sns\n",
    "\n",
    "# # set seaborn style\n",
    "# sns.set()\n",
    "# plotly\n",
    "import plotly.express as px\n",
    "import plotly.graph_objs as go\n",
    "from plotly.subplots import make_subplots\n",
    "import plotly.io as pio\n",
    "\n",
    "\n",
    "from lobaflex.tools.plots import (get_all_attribute_values_for_keyword,\n",
    "                                  plot_all_attributes_for_keyword,\n",
    "                                  plot_optimized_dispatch,\n",
    "                                  heatmap_energy_level,\n",
    "                                  plot_scenario_potential,\n",
    "                                  plot_compare_optimization_to_reference,\n",
    "                                  plot_flex_capacities,\n",
    "                                  get_all_reinforcement_measures,\n",
    "                                  identify_cop_bug,\n",
    "                                 )\n",
    "# uncomment to make plots svg\n",
    "# pio.renderers.default = \"svg\"\n",
    "\n",
    "# Deactivate warning\n",
    "import logging\n",
    "logger = logging.getLogger(\"edisgo.network.topology\")\n",
    "logger.setLevel(logging.ERROR)\n"
   ]
  },
  {
   "cell_type": "code",
   "execution_count": null,
   "metadata": {
    "tags": [
     "delete_me"
    ]
   },
   "outputs": [],
   "source": [
    "pio.renderers.default = \"svg\""
   ]
  },
  {
   "cell_type": "code",
   "execution_count": null,
   "metadata": {},
   "outputs": [],
   "source": [
    "cfg_o = get_config(path=config_dir / \".opt.yaml\")\n",
    "# cfg_g = get_config(path=config_dir / \".grids.yaml\")"
   ]
  },
  {
   "cell_type": "markdown",
   "metadata": {
    "tags": [
     "parameters"
    ]
   },
   "source": [
    "# Grid information<a class=\"anchor\" id=\"0_Grid_information\"></a>"
   ]
  },
  {
   "cell_type": "markdown",
   "metadata": {},
   "source": [
    "# Definitions"
   ]
  },
  {
   "cell_type": "code",
   "execution_count": null,
   "metadata": {},
   "outputs": [],
   "source": [
    "grid_path = Path(grid_path) \n",
    "\n",
    "df_observation_periods = pd.read_csv(results_dir / run_id / \"observation_periods.csv\",\n",
    "                                     header=[0,1], index_col=0).loc[:,str(grid_id)]"
   ]
  },
  {
   "cell_type": "markdown",
   "metadata": {},
   "source": [
    "# Import grid"
   ]
  },
  {
   "cell_type": "code",
   "execution_count": null,
   "metadata": {},
   "outputs": [],
   "source": [
    "edisgo_obj = import_edisgo_from_files(\n",
    "    grid_path / \"minimize_loading\" / \"mvgd\",\n",
    "    import_topology=True,\n",
    "    import_timeseries=True,\n",
    "    import_heat_pump=True,\n",
    "    import_electromobility=True,\n",
    ")"
   ]
  },
  {
   "cell_type": "markdown",
   "metadata": {},
   "source": [
    "# Plots"
   ]
  },
  {
   "cell_type": "markdown",
   "metadata": {},
   "source": [
    "# Capacities"
   ]
  },
  {
   "cell_type": "code",
   "execution_count": null,
   "metadata": {},
   "outputs": [],
   "source": [
    "plot_flex_capacities(edisgo_obj)"
   ]
  },
  {
   "cell_type": "markdown",
   "metadata": {},
   "source": [
    "## Charging + feedin"
   ]
  },
  {
   "cell_type": "code",
   "execution_count": null,
   "metadata": {},
   "outputs": [],
   "source": [
    "plot_optimized_dispatch(edisgo_obj, timeframe=df_observation_periods[\"min_load\"])"
   ]
  },
  {
   "cell_type": "code",
   "execution_count": null,
   "outputs": [],
   "source": [
    "plot_optimized_dispatch(edisgo_obj, timeframe=df_observation_periods[\"potential\"])"
   ],
   "metadata": {
    "collapsed": false
   }
  },
  {
   "cell_type": "markdown",
   "metadata": {},
   "source": [
    "## curtailment"
   ]
  },
  {
   "cell_type": "code",
   "execution_count": null,
   "outputs": [],
   "source": [
    "plot_all_attributes_for_keyword(results_path=grid_path / \"potential\" / \"minimize_loading\",\n",
    "                                keyword=\"curtailment\",\n",
    "                                timeframe=df_observation_periods[\"min_load\"])"
   ],
   "metadata": {
    "collapsed": false
   }
  },
  {
   "cell_type": "code",
   "execution_count": null,
   "outputs": [],
   "source": [
    "plot_all_attributes_for_keyword(results_path=grid_path / \"potential\" / \"minimize_loading\",\n",
    "                                keyword=\"curtailment\",\n",
    "                                timeframe=df_observation_periods[\"potential\"])"
   ],
   "metadata": {
    "collapsed": false
   }
  },
  {
   "cell_type": "markdown",
   "metadata": {},
   "source": [
    "## Slacks"
   ]
  },
  {
   "cell_type": "code",
   "execution_count": null,
   "metadata": {},
   "outputs": [],
   "source": [
    "plot_all_attributes_for_keyword(results_path=grid_path / \"potential\" / \"minimize_loading\",\n",
    "                                keyword=\"slack\",\n",
    "#                                timeframe=df_observation_periods[period]\n",
    "                               )"
   ]
  },
  {
   "cell_type": "markdown",
   "metadata": {},
   "source": [
    "## Energy"
   ]
  },
  {
   "cell_type": "code",
   "execution_count": null,
   "metadata": {},
   "outputs": [],
   "source": [
    "plot_all_attributes_for_keyword(results_path=grid_path / \"potential\" / \"minimize_loading\",\n",
    "                                keyword=f\"{grid_id}_energy_level\",\n",
    "                                edisgo_obj=edisgo_obj,\n",
    "                                objectives=[\"minimize_energy_level\"],\n",
    "                               timeframe=df_observation_periods[\"min_load\"])"
   ]
  },
  {
   "cell_type": "code",
   "execution_count": null,
   "metadata": {},
   "outputs": [],
   "source": [
    "plot_all_attributes_for_keyword(results_path=grid_path / \"potential\" / \"minimize_loading\",\n",
    "                                keyword=f\"{grid_id}_energy_level\",\n",
    "                                edisgo_obj=edisgo_obj,\n",
    "                                objectives=[\"maximize_energy_level\"],\n",
    "                               timeframe=df_observation_periods[\"potential\"])"
   ]
  },
  {
   "cell_type": "code",
   "execution_count": null,
   "metadata": {},
   "outputs": [],
   "source": [
    "identify_cop_bug(results_path=grid_path / \"potential\" / \"minimize_loading\",\n",
    "                 edisgo_obj=edisgo_obj,\n",
    "                 timeframe=df_observation_periods[\"min_load\"])"
   ]
  },
  {
   "cell_type": "raw",
   "metadata": {
    "scrolled": false
   },
   "source": [
    "heatmap_energy_level(keyword=f\"{grid_id}_energy_level\", edisgo_obj=edisgo_obj)"
   ]
  },
  {
   "cell_type": "markdown",
   "metadata": {},
   "source": [
    "## Charging"
   ]
  },
  {
   "cell_type": "markdown",
   "metadata": {},
   "source": [
    "charging ev: hüllkurve upper lower opacitiy und dann opt ergebnis dazwischen\n",
    "hp: same\n",
    "\n",
    "annotation for max min grid power: no tes energy constraints"
   ]
  },
  {
   "cell_type": "code",
   "execution_count": null,
   "metadata": {},
   "outputs": [],
   "source": [
    "plot_all_attributes_for_keyword(results_path=grid_path / \"potential\" / \"minimize_loading\",\n",
    "                                keyword=\"charging\",\n",
    "                                edisgo_obj=edisgo_obj,\n",
    "                                objectives=[\"maximize_grid_power\"],\n",
    "                                timeframe=df_observation_periods[\"potential\"])"
   ]
  },
  {
   "cell_type": "code",
   "execution_count": null,
   "outputs": [],
   "source": [
    "plot_all_attributes_for_keyword(results_path=grid_path / \"potential\" / \"minimize_loading\",\n",
    "                                keyword=\"charging\",\n",
    "                                edisgo_obj=edisgo_obj,\n",
    "                                objectives=[\"minimize_grid_power\"],\n",
    "                                timeframe=df_observation_periods[\"min_load\"])"
   ],
   "metadata": {
    "collapsed": false
   }
  },
  {
   "cell_type": "markdown",
   "metadata": {},
   "source": [
    "# scenario comparison"
   ]
  },
  {
   "cell_type": "markdown",
   "metadata": {},
   "source": [
    "## Reinforcement costs"
   ]
  },
  {
   "cell_type": "code",
   "execution_count": null,
   "metadata": {},
   "outputs": [],
   "source": [
    "df_reinforcement_costs = get_all_reinforcement_measures(grid_path)\n",
    "\n",
    "fig = px.bar(\n",
    "df_reinforcement_costs.T.loc[\"total_costs\"].unstack().drop(columns=[\"all\"]),\n",
    "color_discrete_sequence=['#D2691E','#1E90FF', 'darkgrey'],\n",
    ")\n",
    "fig.update_layout(\n",
    "    yaxis_title=\"Costs in k€\",\n",
    "    xaxis_title=\"Scenario\",\n",
    "    showlegend=True,\n",
    "    legend_title=\"voltage level\"\n",
    ")\n",
    "fig.show()\n",
    "\n",
    "fig = px.bar(\n",
    "df_reinforcement_costs.T.loc[\"quantity\"].unstack().drop(columns=[\"all\"]),\n",
    "color_discrete_sequence=['#D2691E','#1E90FF', 'darkgrey'],\n",
    ")\n",
    "fig.update_layout(\n",
    "    yaxis_title=\"Quantity of Measures\",\n",
    "    xaxis_title=\"Scenario\",\n",
    "    showlegend=True,\n",
    "    legend_title=\"voltage level\"\n",
    ")"
   ]
  },
  {
   "cell_type": "markdown",
   "metadata": {},
   "source": [
    "## Flexbands"
   ]
  },
  {
   "cell_type": "markdown",
   "metadata": {},
   "source": [
    "### Heat pump"
   ]
  },
  {
   "cell_type": "code",
   "execution_count": null,
   "metadata": {},
   "outputs": [],
   "source": [
    "\n",
    "plot_scenario_potential(potential_path=results_dir / run_id / str(grid_id) / \"potential\",\n",
    "                        objectives=[\"maximize_grid_power\", \"minimize_grid_power\"],\n",
    "                        keyword=\"charging\",\n",
    "                        technology=\"hp_el\",\n",
    "                        timeframe=df_observation_periods[\"potential\"],\n",
    "                        title=None)"
   ]
  },
  {
   "cell_type": "code",
   "execution_count": null,
   "outputs": [],
   "source": [
    "plot_scenario_potential(potential_path=results_dir / run_id / str(grid_id) / \"potential\",\n",
    "                        objectives=[\"maximize_energy_level\", \"minimize_energy_level\"],\n",
    "                        keyword=f\"{grid_id}_energy_level\",\n",
    "                        technology=\"tes\",\n",
    "                        timeframe=df_observation_periods[\"potential\"],\n",
    "                        title=None)"
   ],
   "metadata": {
    "collapsed": false
   }
  },
  {
   "cell_type": "markdown",
   "metadata": {},
   "source": [
    "### EV"
   ]
  },
  {
   "cell_type": "code",
   "execution_count": null,
   "outputs": [],
   "source": [
    "plot_scenario_potential(potential_path=results_dir / run_id / str(grid_id) / \"potential\",\n",
    "                        objectives=[\"maximize_grid_power\", \"minimize_grid_power\"],\n",
    "                        keyword=\"charging\",\n",
    "                        technology=\"ev\",\n",
    "                        timeframe=df_observation_periods[\"potential\"],\n",
    "                        title=None)"
   ],
   "metadata": {
    "collapsed": false
   }
  },
  {
   "cell_type": "code",
   "execution_count": null,
   "outputs": [],
   "source": [
    "plot_scenario_potential(potential_path=results_dir / run_id / str(grid_id) / \"potential\",\n",
    "                        objectives=[\"maximize_energy_level\", \"minimize_energy_level\"],\n",
    "                        keyword=f\"{grid_id}_energy_level\",\n",
    "                        technology=\"ev\",\n",
    "                        timeframe=df_observation_periods[\"potential\"],\n",
    "                        title=None)"
   ],
   "metadata": {
    "collapsed": false
   }
  },
  {
   "cell_type": "markdown",
   "metadata": {},
   "source": [
    "## Plot reference + opt charging"
   ]
  },
  {
   "cell_type": "code",
   "execution_count": null,
   "metadata": {},
   "outputs": [],
   "source": [
    "plot_compare_optimization_to_reference(grid_path, timeframe=df_observation_periods['min_load'])"
   ]
  },
  {
   "cell_type": "code",
   "execution_count": null,
   "outputs": [],
   "source": [
    "plot_compare_optimization_to_reference(grid_path, timeframe=df_observation_periods['potential'])"
   ],
   "metadata": {
    "collapsed": false
   }
  },
  {
   "cell_type": "markdown",
   "metadata": {},
   "source": [
    "## Plot energy level + charging"
   ]
  },
  {
   "cell_type": "code",
   "execution_count": null,
   "metadata": {},
   "outputs": [],
   "source": []
  },
  {
   "cell_type": "code",
   "execution_count": null,
   "metadata": {},
   "outputs": [],
   "source": []
  },
  {
   "cell_type": "code",
   "execution_count": null,
   "metadata": {},
   "outputs": [],
   "source": []
  },
  {
   "cell_type": "code",
   "execution_count": null,
   "metadata": {},
   "outputs": [],
   "source": []
  },
  {
   "cell_type": "code",
   "execution_count": null,
   "metadata": {},
   "outputs": [],
   "source": []
  }
 ],
 "metadata": {
  "celltoolbar": "Tags",
  "kernelspec": {
   "display_name": "d_py3.8_edisgo-lobaflex",
   "language": "python",
   "name": "d_py3.8_edisgo-lobaflex"
  },
  "language_info": {
   "codemirror_mode": {
    "name": "ipython",
    "version": 3
   },
   "file_extension": ".py",
   "mimetype": "text/x-python",
   "name": "python",
   "nbconvert_exporter": "python",
   "pygments_lexer": "ipython3",
   "version": "3.8.10"
  },
  "toc": {
   "base_numbering": 1,
   "nav_menu": {},
   "number_sections": true,
   "sideBar": true,
   "skip_h1_title": false,
   "title_cell": "Table of Contents",
   "title_sidebar": "Contents",
   "toc_cell": true,
   "toc_position": {
    "height": "calc(100% - 180px)",
    "left": "10px",
    "top": "150px",
    "width": "429.5px"
   },
   "toc_section_display": true,
   "toc_window_display": true
  }
 },
 "nbformat": 4,
 "nbformat_minor": 4
}
