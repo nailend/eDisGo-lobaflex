{
 "cells": [
  {
   "cell_type": "raw",
   "metadata": {},
   "source": [
    "%load_ext autoreload\n",
    "%autoreload 2"
   ]
  },
  {
   "cell_type": "markdown",
   "metadata": {},
   "source": [
    "## Table of Contents\n",
    "\n",
    "* [0 Grid information](#0_Grid_information)"
   ]
  },
  {
   "cell_type": "code",
   "execution_count": null,
   "metadata": {
    "scrolled": true
   },
   "outputs": [],
   "source": [
    "######## LOBAFLEX ###########\n",
    "# from lobaflex.analysis import analysis\n",
    "# from lobaflex.tools.draw import *\n",
    "from lobaflex.opt.feeder_extraction import get_flexible_loads\n",
    "from lobaflex.tools.tools import get_config, get_files_in_subdirs\n",
    "from lobaflex.opt.dispatch_integration import integrate_dispatch\n",
    "from edisgo.edisgo import import_edisgo_from_files\n",
    "\n",
    "######## DIRS ##########\n",
    "from lobaflex import config_dir, data_dir, results_dir\n",
    "######## DATA ###########\n",
    "import re\n",
    "import pandas as pd\n",
    "from pathlib import Path\n",
    "######## PLOTTING ###########\n",
    "import matplotlib\n",
    "# matplotlib.use('TkAgg')\n",
    "# %matplotlib inline\n",
    "import matplotlib.pyplot as plt\n",
    "from mpl_toolkits.axes_grid1 import make_axes_locatable\n",
    "from matplotlib.ticker import ScalarFormatter\n",
    "import seaborn as sns\n",
    "\n",
    "# # set seaborn style\n",
    "# sns.set()\n",
    "# plotly\n",
    "import plotly.express as px\n",
    "import plotly.graph_objs as go\n",
    "from plotly.subplots import make_subplots\n",
    "import plotly.io as pio\n",
    "\n",
    "# comment to make plots interactive\n",
    "pio.renderers.default = \"svg\"\n"
   ]
  },
  {
   "cell_type": "code",
   "execution_count": null,
   "metadata": {
    "scrolled": true
   },
   "outputs": [],
   "source": [
    "cfg_o = get_config(path=config_dir / \".opt.yaml\")\n",
    "# cfg_g = get_config(path=config_dir / \".grids.yaml\")"
   ]
  },
  {
   "cell_type": "raw",
   "metadata": {},
   "source": [
    "# grids\n",
    "# run_id = cfg_o[\"run_id\"]\n",
    "run_id = \"emob_hp_no_end_lines_n_lines_less_1m\"\n",
    "grid_id = cfg_o[\"mvgds\"][0]\n",
    "grid_id = 1056\n",
    "parameters = [\"charging_hp_el\", \"charging_ev\"]\n",
    "\n",
    "# timeframe\n",
    "# start_datetime = \"2011-04-01 00:00:00\"\n",
    "start_datetime = \"2011-01-01 00:00:00\"\n",
    "# periods=336\n",
    "periods=168\n",
    "\n",
    "\n",
    "# directories\n",
    "import_dir = \"load_n_gen_n_emob_n_hp_grids\""
   ]
  },
  {
   "cell_type": "raw",
   "metadata": {},
   "source": [
    "# run_id = cfg_o[\"run_id\"]\n",
    "run_id = \"debug\"\n",
    "# grid_id = 1056\n",
    "# # grid_id = 177\n",
    "# grid_id = 2534\n",
    "# grid_id = 1690\n",
    "grid_id = 9999\n",
    "start_datetime = None\n",
    "periods = None\n",
    "start_datetime = cfg_o[\"start_datetime\"]\n",
    "periods = cfg_o[\"total_timesteps\"]\n",
    "# parameters = [\"charging_hp_el\", \"charging_ev\"]"
   ]
  },
  {
   "cell_type": "markdown",
   "metadata": {
    "tags": [
     "parameters"
    ]
   },
   "source": [
    "## 0 Grid information<a class=\"anchor\" id=\"0_Grid_information\"></a>"
   ]
  },
  {
   "cell_type": "markdown",
   "metadata": {},
   "source": [
    "# Definitions"
   ]
  },
  {
   "cell_type": "code",
   "execution_count": null,
   "metadata": {
    "scrolled": true
   },
   "outputs": [],
   "source": [
    "# grid_path = results_dir / run_id / str(grid_id) / \"minimize_loading\" / \"mvgd\"\n",
    "grid_path = Path(import_dir) / \"mvgd\"\n",
    "# grid_path = import_dir\n",
    "# grid_path = results_dir / run_id / str(grid_id) / \"min_reinforce\"\n",
    "base_objective =  grid_path.parent.name\n",
    "# results_path = results_dir / run_id / str(grid_id) / \"potential\" / \"60_pct_reinforced\"\n",
    "results_path = results_dir / run_id / str(grid_id) / \"potential\" / base_objective\n",
    "\n",
    "list_of_results = get_files_in_subdirs(path=results_path, pattern=\"*.csv\")"
   ]
  },
  {
   "cell_type": "raw",
   "metadata": {
    "scrolled": false
   },
   "source": [
    "# objectives = [\"maximize_energy_level\", \"minimize_energy_level\"]\n",
    "selected_list = [i for i in list_of_results if \"maximize_energy_level\" in i and \"concat\" in i]\n",
    "# selected_list += [i for i in list_of_results if \"minimize_energy_level\" in i and \"concat\" in i]"
   ]
  },
  {
   "cell_type": "raw",
   "metadata": {},
   "source": [
    "selected_list = [i for i in list_of_results if \"maximize_grid_power\" in i and \"concat\" in i]"
   ]
  },
  {
   "cell_type": "code",
   "execution_count": null,
   "metadata": {
    "scrolled": true
   },
   "outputs": [],
   "source": [
    "selected_list = [i for i in list_of_results if \"concat\" in i]"
   ]
  },
  {
   "cell_type": "code",
   "execution_count": null,
   "metadata": {
    "scrolled": true
   },
   "outputs": [],
   "source": [
    "def get_all_attribute_values_for_keyword(keyword):\n",
    "    \n",
    "    objectives = [\"maximize_grid_power\",\n",
    "                  \"minimize_grid_power\",\n",
    "                  \"maximize_energy_level\",\n",
    "                  \"minimize_energy_level\",\n",
    "                 ]\n",
    "    \n",
    "    colors_dict = {\n",
    "        \"load\": \"#db3b3c\",\n",
    "        \"reactive_load\": \"#951b1c\",\n",
    "        \"feedin\": \"#4bce4b\",\n",
    "        \"reactive_feedin\": \"#1c641c\",\n",
    "        \"hp\": \"#8c564b\",\n",
    "        \"ev\": \"#1f77b4\",\n",
    "        \"tes\": \"#d6aa27\",\n",
    "        }\n",
    "    \n",
    "    data = dict().fromkeys(objectives)\n",
    "    \n",
    "    keyword_files = [i for i in selected_list if keyword in i and not 'slack_initial' in i]\n",
    "\n",
    "    \n",
    "    for obj in objectives:\n",
    "        obj_files = [i for i in keyword_files if obj in i]\n",
    "        files = [i for i in obj_files if keyword in i]\n",
    "\n",
    "        obj_dict = {}\n",
    "        for i, file in enumerate(files):\n",
    "            attr = re.findall(fr'{keyword}_(.*).csv', file)[0]\n",
    "            df = pd.read_csv(file, index_col=0, parse_dates=True)\n",
    "            df = df.sum(axis=1).rename(f\"{keyword} {attr} [MW]\")\n",
    "            obj_dict[attr] = df\n",
    "        data[obj] = obj_dict\n",
    "            \n",
    "    return data"
   ]
  },
  {
   "cell_type": "code",
   "execution_count": null,
   "metadata": {
    "scrolled": true
   },
   "outputs": [],
   "source": [
    "def plot_all_attributes_for_keyword(keyword, edisgo_obj=None):\n",
    "    \n",
    "    if edisgo_obj is not None:\n",
    "        p_set = edisgo_obj.topology.loads_df.loc[\n",
    "            edisgo_obj.topology.loads_df[\"opt\"]].groupby(\"type\")[\"p_set\"].sum()\n",
    "        upper_power = edisgo_obj.electromobility.flexibility_bands[\"upper_power\"].sum(axis=1)\n",
    "    \n",
    "    objectives = [\"maximize_grid_power\",\n",
    "                  \"minimize_grid_power\",\n",
    "                  \"maximize_energy_level\",\n",
    "                  \"minimize_energy_level\",\n",
    "                 ]\n",
    "    \n",
    "    colors_dict = {\n",
    "        \"load\": \"#db3b3c\",\n",
    "        \"reactive_load\": \"#951b1c\",\n",
    "        \"feedin\": \"#4bce4b\",\n",
    "        \"reactive_feedin\": \"#1c641c\",\n",
    "        \"hp\": \"#8c564b\",\n",
    "        \"ev\": \"#1f77b4\",\n",
    "        \"tes\": \"#d6aa27\",\n",
    "        \"hp_el\": \"#8c564b\",\n",
    "        }\n",
    "    \n",
    "    keyword_files = [i for i in selected_list if keyword in i and not 'slack_initial' in i]\n",
    "\n",
    "    if len(keyword_files) == 0:\n",
    "        print(f\"No {keyword} values.\")\n",
    "\n",
    "    else:\n",
    "\n",
    "        fig = make_subplots(rows=len(objectives), subplot_titles=objectives, vertical_spacing=0.05)\n",
    "\n",
    "        for subplot, obj in enumerate(objectives):\n",
    "            obj_files = [i for i in keyword_files if obj in i]\n",
    "            files = [i for i in obj_files if keyword in i]\n",
    "\n",
    "            if len(files) == 0:\n",
    "                fig.add_annotation(x=2, y=5, text=f\"No values\", showarrow=False, font=dict(size=16),\n",
    "                                  row=subplot+1, col=1,)\n",
    "                continue\n",
    "            traces = []\n",
    "            for i, file in enumerate(files):\n",
    "                attr = re.findall(fr'{keyword}_(.*).csv', file)[0]\n",
    "                df = pd.read_csv(file, index_col=0, parse_dates=True)\n",
    "                df = df.sum(axis=1).rename(f\"{keyword} {attr} [MW]\")\n",
    "\n",
    "                \n",
    "                trace = go.Scatter(x=df.index, y=df, mode=\"lines\", name=attr, line_color=colors_dict[attr],\n",
    "\n",
    "    #                                showlegend=True if not subplot else False,\n",
    "    #                                legendgroup=attr,\n",
    "\n",
    "                                   legendgroup=obj,\n",
    "                                   legendgrouptitle_text=obj\n",
    "                                  )\n",
    "                fig.add_trace(trace, row=subplot+1, col=1,)\n",
    "            \n",
    " \n",
    "            if keyword == \"charging\" and edisgo_obj is not None:\n",
    "                # draw p_set line\n",
    "                trace = go.Scatter(x=df.index, y=[p_set[\"heat_pump\"]], mode=\"lines\", name=\"hp p_set\",\n",
    "                                   line_color=colors_dict[\"hp_el\"],\n",
    "                                   line=dict(dash='dot'),\n",
    "\n",
    "#                                showlegend=True if not subplot else False,\n",
    "#                                legendgroup=attr,\n",
    "\n",
    "                               legendgroup=obj,\n",
    "                               legendgrouptitle_text=obj\n",
    "                              )\n",
    "                fig.add_trace(trace, row=subplot+1, col=1,)\n",
    "                \n",
    "                # draw ev upper power line\n",
    "                trace = go.Scatter(x=df.index, y=upper_power, mode=\"lines\", name=\"ev upper_power\",\n",
    "                                   line_color=colors_dict[\"ev\"],\n",
    "                                   line=dict(dash='dot'),\n",
    "\n",
    "#                                showlegend=True if not subplot else False,\n",
    "#                                legendgroup=attr,\n",
    "\n",
    "                               legendgroup=obj,\n",
    "                               legendgrouptitle_text=obj\n",
    "                              )\n",
    "                fig.add_trace(trace, row=subplot+1, col=1,)\n",
    "\n",
    "                \n",
    "                \n",
    "\n",
    "        fig.update_layout(\n",
    "            title=f\"{keyword}: {run_id} - {grid_id}\",\n",
    "            width=1000,\n",
    "            height=2000,\n",
    "            margin=dict(t=30, b=30, l=30, r=30),\n",
    "            showlegend=True,\n",
    "        )\n",
    "        if \"energy\" in keyword:\n",
    "            ylabel = \"Energy in MWh\"\n",
    "        else:\n",
    "            ylabel = \"Power in MWh\"\n",
    "        fig.update_yaxes(title_text=ylabel)\n",
    "\n",
    "        fig.show()\n",
    "\n"
   ]
  },
  {
   "cell_type": "code",
   "execution_count": null,
   "metadata": {
    "scrolled": true
   },
   "outputs": [],
   "source": [
    "def heatmap_energy_level(keyword):\n",
    "\n",
    "    \n",
    "    keyword_files = [i for i in selected_list if keyword in i and not 'slack_initial' in i]\n",
    "    \n",
    "    if len(keyword_files) == 0:\n",
    "        print(f\"No {keyword} values.\")\n",
    "\n",
    "    else:\n",
    "        \n",
    "        pattern = fr\"potential/\\w+/(.*)/concat/\\d+_energy_level_(.*).csv\"\n",
    "        keys = [re.search(pattern, string=i).groups() for i in keyword_files]\n",
    "        \n",
    "        files = pd.DataFrame(\n",
    "            keys, index=keyword_files, columns=[\"objective\", \"attribute\"]\n",
    "        ).sort_values([\"attribute\", \"objective\"])\n",
    "\n",
    "        subplot_titles = files[\"objective\"].values + \"_\" + files[\"attribute\"].values\n",
    "        \n",
    "        fig = make_subplots(rows=len(files),\n",
    "                            subplot_titles=subplot_titles,\n",
    "                            vertical_spacing=0.05,\n",
    "                           )\n",
    "\n",
    "        traces = []\n",
    "        for i, file in enumerate(files.index):\n",
    "            attr = re.findall(fr'{keyword}_(.*).csv', file)[0]\n",
    "            df = pd.read_csv(file, index_col=0, parse_dates=True)\n",
    "            df = df.sum(axis=1).rename(f\"{keyword} {attr} [MW]\")\n",
    "            data = [df.iloc[i:].loc[::24] for i in range(24)]\n",
    "            trace = go.Heatmap(z=data, colorscale='Viridis', showscale=False)\n",
    "            fig.add_trace(trace, row=i+1, col=1)\n",
    "\n",
    "\n",
    "        fig.update_layout(\n",
    "            title=f\"{keyword}: {run_id} - {grid_id}\",\n",
    "            width=1000,\n",
    "            height=2000,\n",
    "            margin=dict(t=30, b=30, l=30, r=30),\n",
    "            showlegend=True,\n",
    "             coloraxis_showscale=True\n",
    "        )\n",
    "        if \"energy\" in keyword:\n",
    "            ylabel = \"Energy in MWh\"\n",
    "        else:\n",
    "            ylabel = \"Power in MWh\"\n",
    "        fig.update_yaxes(title_text=ylabel, tickmode='linear', dtick=4)\n",
    "        fig.update_xaxes(title_text=ylabel, tickmode='linear', dtick=1)\n",
    "\n",
    "        fig.show()\n",
    "\n"
   ]
  },
  {
   "cell_type": "markdown",
   "metadata": {},
   "source": [
    "# Import grid"
   ]
  },
  {
   "cell_type": "code",
   "execution_count": null,
   "metadata": {
    "scrolled": true
   },
   "outputs": [],
   "source": [
    "edisgo_obj = import_edisgo_from_files(\n",
    "    grid_path,\n",
    "    import_topology=True,\n",
    "    import_timeseries=True,\n",
    "    import_heat_pump=True,\n",
    "    import_electromobility=True,\n",
    ")"
   ]
  },
  {
   "cell_type": "markdown",
   "metadata": {},
   "source": [
    "# Plots\n",
    "## curtailment"
   ]
  },
  {
   "cell_type": "code",
   "execution_count": null,
   "metadata": {
    "scrolled": false
   },
   "outputs": [],
   "source": [
    "plot_all_attributes_for_keyword(keyword=\"curtailment\")"
   ]
  },
  {
   "cell_type": "markdown",
   "metadata": {},
   "source": [
    "## Slacks"
   ]
  },
  {
   "cell_type": "raw",
   "metadata": {
    "scrolled": false
   },
   "source": [
    "# slack_files = [i for i in selected_list if \"slack\" in i and not 'initial' in i]\n",
    "\n",
    "n = len(slack_files)\n",
    "if n:\n",
    "    fig, axs = plt.subplots(nrows=n, figsize=(15, n*5))#, sharex=True)\n",
    "    for i, file in enumerate(slack_files):\n",
    "        attr = re.findall(r'slack_(.*).csv', file)[0]\n",
    "        df = pd.read_csv(file, index_col=0, parse_dates=True)\n",
    "    #     df = df.sum(axis=1).loc[timeframe].rename(f\"Slack {attr}\")\n",
    "        df = df.sum(axis=1).rename(f\"Slack {attr} [MW]\")\n",
    "        df = (pd.Series(index=timeframe, data=0).rename(df.name) + df).fillna(0)\n",
    "        sns.lineplot(x=timeframe, y=df, ax=axs[i])\n",
    "    # fig.show()\n",
    "else:\n",
    "    print(\"No slacks\")"
   ]
  },
  {
   "cell_type": "code",
   "execution_count": null,
   "metadata": {
    "scrolled": false
   },
   "outputs": [],
   "source": [
    "plot_all_attributes_for_keyword(keyword=\"slack\")"
   ]
  },
  {
   "cell_type": "markdown",
   "metadata": {},
   "source": [
    "## Energy"
   ]
  },
  {
   "cell_type": "code",
   "execution_count": null,
   "metadata": {
    "scrolled": false
   },
   "outputs": [],
   "source": [
    "plot_all_attributes_for_keyword(keyword=f\"{grid_id}_energy_level\")"
   ]
  },
  {
   "cell_type": "code",
   "execution_count": null,
   "metadata": {
    "scrolled": false
   },
   "outputs": [],
   "source": [
    "heatmap_energy_level(keyword=f\"{grid_id}_energy_level\")"
   ]
  },
  {
   "cell_type": "raw",
   "metadata": {
    "scrolled": false
   },
   "source": [
    "keyword = f\"{grid_id}_energy_level\"\n",
    "files = [i for i in selected_list if keyword in i]\n",
    "n = len(files)\n",
    "fig, axs = plt.subplots(nrows=n, figsize=(15,n*5))#, sharex=True)\n",
    "for i, file in enumerate(files):\n",
    "#     attr = re.findall(fr'{keyword}_(.*).csv', file)[0]\n",
    "    attr = re.findall(fr'/concat/{grid_id}_(.*).csv', file)[0]\n",
    "    df = pd.read_csv(file, index_col=0, parse_dates=True)\n",
    "#     df = df.sum(axis=1).loc[timeframe].rename(f\"{keyword} {attr} [MWh]\")\n",
    "    df = df.sum(axis=1).rename(f\"{keyword} {attr} [MWh]\")\n",
    "    sns.lineplot(x=df.index, y=df, ax=axs[i])\n",
    "# fig.show()"
   ]
  },
  {
   "cell_type": "markdown",
   "metadata": {},
   "source": [
    "heatmap"
   ]
  },
  {
   "cell_type": "markdown",
   "metadata": {},
   "source": [
    "- tes upper energy level constraint needs to be removed"
   ]
  },
  {
   "cell_type": "markdown",
   "metadata": {},
   "source": [
    "## Charging"
   ]
  },
  {
   "cell_type": "markdown",
   "metadata": {},
   "source": [
    "- diff zu pset hp\n",
    "- diff zu upper power ev"
   ]
  },
  {
   "cell_type": "code",
   "execution_count": null,
   "metadata": {
    "scrolled": true
   },
   "outputs": [],
   "source": [
    "plot_all_attributes_for_keyword(keyword=\"charging\", edisgo_obj=edisgo_obj)"
   ]
  },
  {
   "cell_type": "raw",
   "metadata": {
    "scrolled": false
   },
   "source": [
    "keyword = f\"{grid_id}_charging\"\n",
    "files = [i for i in selected_list if keyword in i]\n",
    "n = len(files)\n",
    "fig, axs = plt.subplots(nrows=n, figsize=(15,n*5), sharex=True)\n",
    "for i, file in enumerate(files):\n",
    "    attr = re.findall(fr'{keyword}_(.*).csv', file)[0]\n",
    "    df = pd.read_csv(file, index_col=0, parse_dates=True)\n",
    "#     df = df.sum(axis=1).loc[timeframe].rename(f\"{keyword} {attr} [MW]\")\n",
    "    df = df.sum(axis=1).rename(f\"{keyword} {attr} [MW]\")\n",
    "    sns.lineplot(x=df.index, y=df, ax=axs[i])\n",
    "# fig.show()"
   ]
  },
  {
   "cell_type": "markdown",
   "metadata": {},
   "source": [
    "- high initial charging bei step 1\n",
    "    - hp\n",
    "    - tes\n",
    "- Speicher werden direkt voll gemacht"
   ]
  },
  {
   "cell_type": "markdown",
   "metadata": {},
   "source": [
    "- konstantes laden der TES wegen verlusten\n",
    "- warum Einbruch am Ende?"
   ]
  },
  {
   "cell_type": "markdown",
   "metadata": {},
   "source": [
    "## Charging + feedin"
   ]
  },
  {
   "cell_type": "raw",
   "metadata": {},
   "source": [
    "timeframe = edisgo_obj.timeseries.timeindex"
   ]
  },
  {
   "cell_type": "raw",
   "metadata": {},
   "source": [
    "fig = go.Figure()\n",
    "\n",
    "fig.add_trace(go.Scatter(\n",
    "    mode= \"lines\",\n",
    "    name = 'Heat pumps',\n",
    "    x = timeframe,\n",
    "    y = edisgo_obj.timeseries.loads_active_power.loc[timeframe, flexible_hp].sum(axis=1),\n",
    "#     stackgroup='one'\n",
    "    yaxis='y1',\n",
    "))\n",
    "\n",
    "fig.add_trace(go.Scatter(\n",
    "    mode= \"lines\",\n",
    "    name = 'Charging points',\n",
    "    x = timeframe,\n",
    "    y = edisgo_obj.timeseries.loads_active_power.loc[timeframe, flexible_cp].sum(axis=1),\n",
    "#     stackgroup='one',\n",
    "    yaxis='y1'\n",
    "))\n",
    "\n",
    "fig.add_trace(go.Scatter(\n",
    "    mode= \"lines\",\n",
    "    name = 'Feedin-fix_load',\n",
    "    x = timeframe,\n",
    "    y = edisgo_obj.timeseries.generators_active_power.loc[timeframe, res_generators].sum(axis=1) - \\\n",
    "    edisgo_obj.timeseries.loads_active_power.loc[timeframe, inflexible_loads].sum(axis=1),\n",
    "#     stackgroup='two',\n",
    "    yaxis='y2',\n",
    "))\n",
    "\n",
    "\n",
    "fig.update_layout(\n",
    "    title=f\"Charging: {run_id} - {grid_id}\",\n",
    "    width=1000,\n",
    "    height=600,\n",
    "    yaxis_title=\"MW\",\n",
    "    xaxis_title=\"timesteps\",\n",
    "    showlegend=True,\n",
    "    yaxis=dict(title='Power in MW'),\n",
    "    yaxis2=dict(title='Power in MW',\n",
    "                overlaying='y',side='right')\n",
    ")\n",
    "\n",
    "fig.show()\n",
    "\n"
   ]
  },
  {
   "cell_type": "markdown",
   "metadata": {},
   "source": [
    "# Plot dumb + opt charging"
   ]
  },
  {
   "cell_type": "markdown",
   "metadata": {},
   "source": [
    "# Plot energy level + charging"
   ]
  },
  {
   "cell_type": "code",
   "execution_count": null,
   "metadata": {
    "scrolled": true
   },
   "outputs": [],
   "source": []
  },
  {
   "cell_type": "code",
   "execution_count": null,
   "metadata": {
    "scrolled": true
   },
   "outputs": [],
   "source": []
  },
  {
   "cell_type": "code",
   "execution_count": null,
   "metadata": {
    "scrolled": true
   },
   "outputs": [],
   "source": []
  },
  {
   "cell_type": "code",
   "execution_count": null,
   "metadata": {
    "scrolled": true
   },
   "outputs": [],
   "source": []
  },
  {
   "cell_type": "code",
   "execution_count": null,
   "metadata": {
    "scrolled": true
   },
   "outputs": [],
   "source": []
  }
 ],
 "metadata": {
  "celltoolbar": "Tags",
  "kernelspec": {
   "display_name": "d_py3.8_edisgo-lobaflex",
   "language": "python",
   "name": "d_py3.8_edisgo-lobaflex"
  },
  "language_info": {
   "codemirror_mode": {
    "name": "ipython",
    "version": 3
   },
   "file_extension": ".py",
   "mimetype": "text/x-python",
   "name": "python",
   "nbconvert_exporter": "python",
   "pygments_lexer": "ipython3",
   "version": "3.8.10"
  },
  "toc": {
   "base_numbering": 1,
   "nav_menu": {},
   "number_sections": true,
   "sideBar": true,
   "skip_h1_title": false,
   "title_cell": "Table of Contents",
   "title_sidebar": "Contents",
   "toc_cell": false,
   "toc_position": {},
   "toc_section_display": true,
   "toc_window_display": true
  }
 },
 "nbformat": 4,
 "nbformat_minor": 4
}
